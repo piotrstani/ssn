{
 "cells": [
  {
   "cell_type": "code",
   "execution_count": null,
   "id": "7cbac84f",
   "metadata": {},
   "outputs": [],
   "source": [
    "#pip install faker"
   ]
  },
  {
   "cell_type": "code",
   "execution_count": null,
   "id": "a1415863",
   "metadata": {},
   "outputs": [],
   "source": [
    "from faker import Faker\n",
    "from faker.providers import ssn\n",
    "import pandas as pd\n",
    "from datetime import datetime"
   ]
  },
  {
   "cell_type": "markdown",
   "id": "7324303e",
   "metadata": {},
   "source": [
    "# 1.1\n",
    "1. Bazując na bibliotekach pandas (https://github.com/pandas-dev/pandas) i faker (https://github.com/joke2k/faker), a konkretnie metodzie ssn z klasy Provider dla lokalizacji pl_PL (https://github.com/joke2k/faker/blob/master/faker/providers/ssn/pl_PL/__init__.py#L33) zaimplementuj funkcję o nazwie generate_ssns, która zwraca obiekt typu Series z liczbą rekordów określoną parametrem wejściowym funkcji oraz wartościami reprezentującymi wygenerowane losowe numery PESEL. "
   ]
  },
  {
   "cell_type": "code",
   "execution_count": null,
   "id": "44b5c1b3",
   "metadata": {},
   "outputs": [],
   "source": [
    "def generate_ssns(elements):\n",
    "    # log time\n",
    "    # start = datetime.now()\n",
    "    # log time\n",
    "\n",
    "    fake = Faker(locale='pl_PL')\n",
    "    ssns_list = []\n",
    "    for element in range(elements):\n",
    "        value = fake.ssn()\n",
    "        ssns_list.append(value)\n",
    "\n",
    "    ssns_series = pd.Series(ssns_list)\n",
    "\n",
    "    return ssns_series"
   ]
  },
  {
   "cell_type": "code",
   "execution_count": null,
   "id": "19ecde53",
   "metadata": {},
   "outputs": [],
   "source": [
    "# ds = generate_ssns(1)\n",
    "# print(type(ds),ds)"
   ]
  },
  {
   "cell_type": "markdown",
   "id": "471b7403",
   "metadata": {},
   "source": [
    "# 1.2\n",
    "2. Zaimplementuj funkcję generate_unique_ssns (w dowolny sposób), która zwraca obiekt typu Series z liczbą rekordów określoną parametrem wejściowym funkcji oraz wartościami reprezentującymi wygenerowane losowe i unikalne (tylko w ramach zwracanej kolekcji) numery PESEL właściwe dla osób o płci (żeńska/męska) oraz urodzonych w przedziale dat (od-do) określonymi również parametrami wejściowymi tej funkcji. "
   ]
  },
  {
   "cell_type": "code",
   "execution_count": null,
   "id": "85d043fc",
   "metadata": {},
   "outputs": [],
   "source": [
    "def is_valid_date_format(date_str):\n",
    "    try:\n",
    "        datetime.strptime(date_str, '%Y-%m-%d')\n",
    "    except ValueError:\n",
    "        raise ValueError(\"Incorrect data format, should be YYYY-MM-DD\")\n",
    "\n",
    "\n",
    "def is_valid_date(year, month, day):\n",
    "    try:\n",
    "        datetime(year, month, day)\n",
    "    except ValueError:\n",
    "        raise ValueError(\"Incorrect date, months 1-12,days 1-31\")\n",
    "\n",
    "\n",
    "def get_date_from_ssn(ssn_str):\n",
    "    true_ssn_day = int(ssn_str[4:6])\n",
    "    month_to_decode = int(ssn_str[2:4])\n",
    "    true_ssn_month = month_to_decode % 20\n",
    "\n",
    "    year_to_decode = int(ssn_str[0:2])\n",
    "    if 1 <= month_to_decode <= 12:\n",
    "        true_ssn_year = 1900 + year_to_decode\n",
    "    elif 1 + 20 <= month_to_decode <= 12 + 20:\n",
    "        true_ssn_year = 2000 + year_to_decode\n",
    "    elif 1 + 40 <= month_to_decode < 12 + 40:\n",
    "        true_ssn_year = 2100 + year_to_decode\n",
    "    elif 1 + 60 <= month_to_decode < 12 + 60:\n",
    "        true_ssn_year = 2200 + year_to_decode\n",
    "    elif 1 + 80 <= month_to_decode < 12 + 80:\n",
    "        true_ssn_year = 1800 + year_to_decode\n",
    "    else:\n",
    "        true_ssn_year = 0\n",
    "    is_valid_date(true_ssn_year, true_ssn_month, true_ssn_day)\n",
    "    true_ssn_date = datetime(true_ssn_year, true_ssn_month, true_ssn_day)\n",
    "    return true_ssn_date\n",
    "\n",
    "def generate_unique_ssns(elements, sex, in_start_dte, in_end_dte):\n",
    "    ssns_list = []\n",
    "    while len(ssns_list) + 1 <= elements:\n",
    "\n",
    "        # ssn_str = fake.ssn()\n",
    "        ssn_str = generate_ssns(1).tolist()[0]\n",
    "\n",
    "        if ssn_str not in ssns_list:\n",
    "            start_dte = datetime.strptime(in_start_dte, '%Y-%m-%d')\n",
    "            is_valid_date_format(in_start_dte)\n",
    "            end_dte = datetime.strptime(in_end_dte, '%Y-%m-%d')\n",
    "            is_valid_date_format(in_end_dte)\n",
    "\n",
    "            true_ssn_date = get_date_from_ssn(ssn_str)\n",
    "\n",
    "            if start_dte <= true_ssn_date <= end_dte:\n",
    "                if sex == 'F' and int(ssn_str[9]) % 2 == 0:\n",
    "                    ssns_list.append(ssn_str)\n",
    "                elif sex == 'M' and int(ssn_str[9]) % 2 != 0:\n",
    "                    ssns_list.append(ssn_str)\n",
    "\n",
    "    ssns_series = pd.Series(ssns_list)\n",
    "\n",
    "    return ssns_series"
   ]
  },
  {
   "cell_type": "markdown",
   "id": "bdee8e7b",
   "metadata": {},
   "source": [
    "# 1.3\n",
    "3.     Następnie zaimplementuj wywołania funkcji generate_ssns oraz generate_unique_ssns dla 1 000, 10 000 i 100 000 rekordów, wskazując wybraną płeć oraz przedział dat urodzenia od 1990-01-01 do 1990-01-19. Dokonaj pomiaru i wyświetl czas trwania ich wykonania (osobno dla każdego wywołania każdej z tych dwóch funkcji). "
   ]
  },
  {
   "cell_type": "code",
   "execution_count": null,
   "id": "6db1cf1e",
   "metadata": {},
   "outputs": [],
   "source": [
    "%%time\n",
    "generate_ssns(1000)"
   ]
  },
  {
   "cell_type": "code",
   "execution_count": null,
   "id": "cf1329e3",
   "metadata": {},
   "outputs": [],
   "source": [
    "%%time\n",
    "generate_ssns(10000)"
   ]
  },
  {
   "cell_type": "code",
   "execution_count": null,
   "id": "8f34454b",
   "metadata": {},
   "outputs": [],
   "source": [
    "%%time\n",
    "generate_unique_ssns(1000, 'F', '1900-01-01', '1999-01-19')"
   ]
  },
  {
   "cell_type": "code",
   "execution_count": null,
   "id": "e01ccb44",
   "metadata": {},
   "outputs": [],
   "source": [
    "%%time\n",
    "generate_unique_ssns(10000, 'F', '1900-01-01', '1999-01-19')"
   ]
  },
  {
   "cell_type": "markdown",
   "id": "bf0925d8",
   "metadata": {},
   "source": [
    "# 1.4\n",
    "4. Zaimplementuj funkcję o nazwie validate_ssn, która na wejściu przyjmuje numer PESEL wraz z określeniem oczekiwanej płci (żeńska/męska/dowolna) i daty urodzenia (konkretna/określona lub dowolna), a na wyjściu zwraca informację o poprawności numeru PESEL. Wewnątrz funkcji zawrzyj logikę weryfikującą poprawność syntaktyczną numeru PESEL z uwzględnieniem informacji o oczekiwanej płci oraz dacie urodzenia. Następnie przetestuj działanie funkcji validate_ssn na przykładowych danych. "
   ]
  },
  {
   "cell_type": "code",
   "execution_count": null,
   "id": "60d98090",
   "metadata": {},
   "outputs": [],
   "source": [
    "def validate_ssn(ssn_str, sex, in_birth_dte):\n",
    "\n",
    "    # TEST IS 11 INT\n",
    "    if ssn_str.isnumeric() and len(ssn_str) == 11:\n",
    "\n",
    "        # TEST LAST DIGIT\n",
    "        check_digit_flag = ''\n",
    "        weights_for_check_digit = [1, 3, 7, 9, 1, 3, 7, 9, 1, 3]\n",
    "        sum_digit = 0\n",
    "\n",
    "        for digits in range(0, 10):\n",
    "            sum_digit += weights_for_check_digit[digits] * int(ssn_str[digits])\n",
    "            # print(f\"{sum_digit} =  {weights_for_check_digit[digits]} * {int(ssn_str[digits])}\")\n",
    "\n",
    "        check_digit = 10 - sum_digit % 10\n",
    "        if check_digit == 10:\n",
    "            check_digit = 0       \n",
    "        if check_digit == int(ssn_str[10]):\n",
    "            check_digit_flag = '1'\n",
    "        else:\n",
    "            check_digit_flag = '0'\n",
    "\n",
    "        # TEST SEX\n",
    "        check_sex_flag = ''\n",
    "        if sex == 'dowolna':\n",
    "            check_sex_flag = '?'\n",
    "        else:\n",
    "            if sex == 'F':\n",
    "                if int(ssn_str[9]) % 2 == 0:\n",
    "                    check_sex_flag = '1' # is female PESEL'\n",
    "                else:\n",
    "                    check_sex_flag = '0' # is not female PESEL'\n",
    "            elif sex == 'M':\n",
    "                if int(ssn_str[9]) % 2 != 0:\n",
    "                    check_sex_flag = '1' # is male PESEL'\n",
    "                else:\n",
    "                    check_sex_flag = '0' # is not male PESEL'\n",
    "\n",
    "        # TEST DATE OF BIRTH\n",
    "        if in_birth_dte == 'dowolna':\n",
    "            check_dte_flag = '?'\n",
    "        else:\n",
    "            is_valid_date_format(in_birth_dte)\n",
    "            true_ssn_date = get_date_from_ssn(ssn_str)\n",
    "            birth_dte = datetime.strptime(in_birth_dte, '%Y-%m-%d')\n",
    "            if true_ssn_date == birth_dte:\n",
    "                check_dte_flag = '1' # date of birth AS expected\n",
    "            else:\n",
    "                check_dte_flag = '0' # date of birth OTHER than expected\n",
    "    # OUTPUT\n",
    "        return f\"PESEL:{ssn_str}|correct_pesel:{check_digit_flag}|{sex}:{check_sex_flag}|{in_birth_dte}:{check_dte_flag}\"\n",
    "\n",
    "    else:\n",
    "        return f\"PESEL:{ssn_str}|PESEL must have 11 digits\"\n"
   ]
  },
  {
   "cell_type": "code",
   "execution_count": null,
   "id": "cc6624b0",
   "metadata": {},
   "outputs": [],
   "source": [
    "# TESTY\n",
    "print('\\nvalidate_ssn -----------------2')\n",
    "print(validate_ssn(generate_unique_ssns(1, 'F', '1900-01-01', '2099-12-31')[0], 'dowolna', 'dowolna'))\n",
    "print(validate_ssn(generate_unique_ssns(1, 'M', '1900-01-01', '2099-12-31')[0], 'dowolna', 'dowolna'))\n",
    "print(validate_ssn(generate_unique_ssns(1, 'F', '1900-01-01', '1999-12-31')[0], 'F', '1999-04-30'))\n",
    "print(validate_ssn(generate_unique_ssns(1, 'M', '1900-01-01', '1999-12-31')[0], 'F', '1999-04-30'))\n",
    "print(validate_ssn(generate_unique_ssns(1, 'M', '2000-01-01', '2099-12-31')[0], 'M', '1999-04-30'))\n",
    "print(validate_ssn(generate_unique_ssns(1, 'F', '2000-01-01', '2099-12-31')[0], 'M', '1999-04-30'))"
   ]
  },
  {
   "cell_type": "code",
   "execution_count": null,
   "id": "6c733501",
   "metadata": {
    "scrolled": true
   },
   "outputs": [],
   "source": [
    "print('\\n\\nvalidate_ssn -----------------3')\n",
    "test_set0 = ['123456789012', '1234567890', '', 'abcdefghijk','1ikl..+./']\n",
    "test_set1 = ['10121378901', '93120611479', '08292960201', '05322226924']\n",
    "test_set2 = ['93120611478', '08292960208', '05322226925']\n",
    "test_set3 = ['06222487465'] \n",
    "test_set4 = ['93031378554'] \n",
    "test_set5 = ['24822907765', '00010104170', '99323108267', '45422805035', '00610107270'] \n",
    "\n",
    "\n",
    "print('\\ntest_set0')\n",
    "for test in test_set0:\n",
    "    print(validate_ssn(test, 'F', '1986-04-30')+'exp PESEL must have 11 digits')\n",
    "    \n",
    "print('\\ntest_set1')\n",
    "for test in test_set1:\n",
    "    print(validate_ssn(test, 'F', '1986-04-30')+'exp correct_pesel:0')\n",
    "          \n",
    "print('\\ntest_set2')         \n",
    "for test in test_set2:\n",
    "    print(validate_ssn(test, 'F', '2006-06-14')+'exp correct_pesel:1')\n",
    "\n",
    "# exp correct_pesel:1          \n",
    "print('\\ntest_set3')\n",
    "for test in test_set3:\n",
    "    print(validate_ssn(test, 'F', '2006-02-24')+'exp F:1,2006-02-24:1')\n",
    "    print(validate_ssn(test, 'M', '2106-02-23')+'exp F:0,2006-02-24:0')\n",
    "    print(validate_ssn(test, 'F', '2006-02-25')+'exp F:1,2006-02-24:0')\n",
    "    print(validate_ssn(test, 'dowolna', '2006-02-24')+'exp:dowolna:?,2006-02-24:1')\n",
    "    print(validate_ssn(test, 'M', 'dowolna')+'exp M:0,dowolna:?')\n",
    "    \n",
    "# exp correct_pesel:1\n",
    "print('\\ntest_set4')\n",
    "for test in test_set4:\n",
    "    print(validate_ssn(test, 'M', '1993-03-13')+'exp M:1,1993-03-13:1')\n",
    "    print(validate_ssn(test, 'F', '1993-03-13')+'exp F:0,1993-03-13:1')\n",
    "    print(validate_ssn(test, 'F', '2993-03-13')+'exp F:0,1993-03-13:0')\n",
    "    print(validate_ssn(test, 'dowolna', '1999-03-12')+'exp dowolna:?,19903-03-13:0')    \n",
    "    print(validate_ssn(test, 'M', 'dowolna')+'exp M:1,dowolna:?')\n",
    "    \n",
    "# exp correct_pesel:1\n",
    "print('\\ntest_set5')\n",
    "print(validate_ssn(test_set5[0], 'F', '1824-02-29')+'exp F:1,1824-02-29:1')\n",
    "print(validate_ssn(test_set5[1], 'M', '1900-01-01')+'exp M:1,1900-01-01:1')\n",
    "print(validate_ssn(test_set5[2], 'M', '2099-12-31')+'exp M:0,2099-12-31:1')\n",
    "print(validate_ssn(test_set5[3], 'M', '2145-02-28')+'exp M:1,2145-02-28:1')\n",
    "print(validate_ssn(test_set5[4], 'F', '2200-01-01')+'exp F:0,2200-01-01:1')   \n"
   ]
  },
  {
   "cell_type": "code",
   "execution_count": null,
   "id": "96e389cc",
   "metadata": {},
   "outputs": [],
   "source": [
    "print('\\nis_valid_date_format -----------------------')\n",
    "# exp ValueError(\"Incorrect data format, should be YYYY-MM-DD\")\n",
    "print(is_valid_date_format('2021-31-01')) \n",
    "print(is_valid_date(1999, 4, 31))"
   ]
  },
  {
   "cell_type": "code",
   "execution_count": null,
   "id": "5f8dd54f",
   "metadata": {},
   "outputs": [],
   "source": [
    "print('\\nget_date_from_ssn -----------------------')\n",
    "# exp ValueError(\"Incorrect date, it is not a date\")\n",
    "print(get_date_from_ssn('06224487465')) "
   ]
  },
  {
   "cell_type": "code",
   "execution_count": null,
   "id": "32fc6501",
   "metadata": {},
   "outputs": [],
   "source": []
  }
 ],
 "metadata": {
  "kernelspec": {
   "display_name": "Python 3",
   "language": "python",
   "name": "python3"
  },
  "language_info": {
   "codemirror_mode": {
    "name": "ipython",
    "version": 3
   },
   "file_extension": ".py",
   "mimetype": "text/x-python",
   "name": "python",
   "nbconvert_exporter": "python",
   "pygments_lexer": "ipython3",
   "version": "3.8.8"
  }
 },
 "nbformat": 4,
 "nbformat_minor": 5
}
