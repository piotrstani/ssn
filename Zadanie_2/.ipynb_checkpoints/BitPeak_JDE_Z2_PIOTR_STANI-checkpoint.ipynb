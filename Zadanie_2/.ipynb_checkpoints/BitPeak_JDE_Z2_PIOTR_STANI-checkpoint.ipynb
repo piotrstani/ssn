{
 "cells": [
  {
   "cell_type": "code",
   "execution_count": 29,
   "id": "0af3bdfd",
   "metadata": {},
   "outputs": [],
   "source": [
    "import sqlite3\n",
    "from sqlite3 import Error"
   ]
  },
  {
   "cell_type": "code",
   "execution_count": 36,
   "id": "43c76477",
   "metadata": {},
   "outputs": [],
   "source": [
    "def sql_connection(dbase):\n",
    "    try:\n",
    "        con = sqlite3.connect(dbase)\n",
    "        return con\n",
    "    except Error:\n",
    "        print(Error)\n",
    "        \n",
    "   # finally:\n",
    "   #     con.close()            "
   ]
  },
  {
   "cell_type": "code",
   "execution_count": 61,
   "id": "ba6ae6a8",
   "metadata": {},
   "outputs": [],
   "source": [
    "def sql_table(con, create_sql):\n",
    "    cursorObj = con.cursor()\n",
    "    cursorObj.execute(create_sql)\n",
    "    con.commit()  "
   ]
  },
  {
   "cell_type": "code",
   "execution_count": 37,
   "id": "3eebb02f",
   "metadata": {},
   "outputs": [],
   "source": [
    "con = sql_connection('FlightDatabase.db')"
   ]
  },
  {
   "cell_type": "code",
   "execution_count": null,
   "id": "047566f6",
   "metadata": {},
   "outputs": [],
   "source": [
    "create_sql =\n",
    "\"\"\"\n",
    "CREATE TABLE FlightLeg(\n",
    "id integer PRIMARY KEY, \n",
    "tailNumber  text, \n",
    "sourceAirportCode real, \n",
    "destinationAirportCode text, \n",
    "sourceCountryCode text, \n",
    "destinationCountryCode text,\n",
    "departureTimeUtc text,\n",
    "landingTimeUtc text\n",
    ")\n",
    "\"\"\""
   ]
  },
  {
   "cell_type": "code",
   "execution_count": 62,
   "id": "d9455ddf",
   "metadata": {},
   "outputs": [],
   "source": [
    "create_sql=\"\"\"\n",
    "CREATE TABLE test(\n",
    "id integer PRIMARY KEY, \n",
    "tailNumber  text\n",
    ")\n",
    "\"\"\""
   ]
  },
  {
   "cell_type": "code",
   "execution_count": 63,
   "id": "8c16b36f",
   "metadata": {},
   "outputs": [],
   "source": [
    "sql_table(con,create_sql )"
   ]
  },
  {
   "cell_type": "code",
   "execution_count": 80,
   "id": "a1f28fb0",
   "metadata": {},
   "outputs": [],
   "source": [
    "def sql_insert(con, insert_sql):\n",
    "    cursorObj = con.cursor()    \n",
    "    cursorObj.execute(insert_sql)\n",
    "    con.commit()"
   ]
  },
  {
   "cell_type": "code",
   "execution_count": 86,
   "id": "b1bd18c9",
   "metadata": {},
   "outputs": [],
   "source": [
    "entities = (1, '2', 3, '4', '5', '6', '7', '8')\n",
    "insert_sql = f\"\"\"\n",
    "INSERT INTO FlightLeg(\n",
    "id, \n",
    "tailNumber, \n",
    "sourceAirportCode, \n",
    "destinationAirportCode, \n",
    "sourceCountryCode, \n",
    "destinationCountryCode,\n",
    "departureTimeUtc,\n",
    "landingTimeUtc) \n",
    "VALUES(?, ?, ?, ?, ?, ?, ?, ?)', {entities}\n",
    "\"\"\""
   ]
  },
  {
   "cell_type": "code",
   "execution_count": 87,
   "id": "8634b8c8",
   "metadata": {},
   "outputs": [
    {
     "data": {
      "text/plain": [
       "\"\\nINSERT INTO FlightLeg(\\nid, \\ntailNumber, \\nsourceAirportCode, \\ndestinationAirportCode, \\nsourceCountryCode, \\ndestinationCountryCode,\\ndepartureTimeUtc,\\nlandingTimeUtc) \\nVALUES(?, ?, ?, ?, ?, ?, ?, ?)', (1, '2', 3, '4', '5', '6', '7', '8')\\n\""
      ]
     },
     "execution_count": 87,
     "metadata": {},
     "output_type": "execute_result"
    }
   ],
   "source": [
    "insert_sql"
   ]
  },
  {
   "cell_type": "code",
   "execution_count": 103,
   "id": "2aa5ea90",
   "metadata": {},
   "outputs": [],
   "source": [
    "entities = (2, 'text2')\n",
    "insert_sql = f\"\"\"\n",
    "INSERT INTO test\n",
    "VALUES{entities}\n",
    "\"\"\""
   ]
  },
  {
   "cell_type": "code",
   "execution_count": 104,
   "id": "5a917177",
   "metadata": {},
   "outputs": [
    {
     "data": {
      "text/plain": [
       "\"\\nINSERT INTO test\\nVALUES(2, 'text2')\\n\""
      ]
     },
     "execution_count": 104,
     "metadata": {},
     "output_type": "execute_result"
    }
   ],
   "source": [
    "insert_sql"
   ]
  },
  {
   "cell_type": "code",
   "execution_count": 105,
   "id": "60a734a0",
   "metadata": {},
   "outputs": [],
   "source": [
    "sql_insert(con, insert_sql)"
   ]
  },
  {
   "cell_type": "code",
   "execution_count": 99,
   "id": "166faa85",
   "metadata": {},
   "outputs": [],
   "source": [
    "def sql_fetch(con, select_sql):\n",
    "    cursorObj = con.cursor()\n",
    "    cursorObj.execute(select_sql)\n",
    "    rows = cursorObj.fetchall()\n",
    "    for row in rows:\n",
    "        print(row)"
   ]
  },
  {
   "cell_type": "code",
   "execution_count": 107,
   "id": "fcae43fb",
   "metadata": {},
   "outputs": [],
   "source": [
    "select_sql= \"\"\"\n",
    "SELECT name \n",
    "from sqlite_master \n",
    "where type= \"table\";\n",
    "\"\"\""
   ]
  },
  {
   "cell_type": "code",
   "execution_count": 101,
   "id": "c7b4650c",
   "metadata": {},
   "outputs": [],
   "source": [
    "select_sql= \"\"\"\n",
    "SELECT * \n",
    "FROM test \n",
    "WHERE 1=1;\n",
    "\"\"\""
   ]
  },
  {
   "cell_type": "code",
   "execution_count": 108,
   "id": "db1c5477",
   "metadata": {},
   "outputs": [
    {
     "name": "stdout",
     "output_type": "stream",
     "text": [
      "('FlightLeg',)\n",
      "('test',)\n",
      "None\n"
     ]
    }
   ],
   "source": [
    "print(sql_fetch(con, select_sql))"
   ]
  },
  {
   "cell_type": "code",
   "execution_count": null,
   "id": "9e1e135f",
   "metadata": {},
   "outputs": [],
   "source": []
  }
 ],
 "metadata": {
  "kernelspec": {
   "display_name": "Python 3",
   "language": "python",
   "name": "python3"
  },
  "language_info": {
   "codemirror_mode": {
    "name": "ipython",
    "version": 3
   },
   "file_extension": ".py",
   "mimetype": "text/x-python",
   "name": "python",
   "nbconvert_exporter": "python",
   "pygments_lexer": "ipython3",
   "version": "3.8.8"
  }
 },
 "nbformat": 4,
 "nbformat_minor": 5
}
