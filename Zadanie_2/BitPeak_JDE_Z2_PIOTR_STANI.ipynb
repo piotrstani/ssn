{
 "cells": [
  {
   "cell_type": "code",
   "execution_count": null,
   "id": "b4bf8f9a",
   "metadata": {},
   "outputs": [],
   "source": [
    "from IPython.core.display import display, HTML\n",
    "display(HTML(\"<style>.container { width:100% !important; }</style>\"))"
   ]
  },
  {
   "cell_type": "code",
   "execution_count": null,
   "id": "0af3bdfd",
   "metadata": {},
   "outputs": [],
   "source": [
    "import sqlite3\n",
    "from sqlite3 import Error\n",
    "import pandas as pd\n",
    "import re"
   ]
  },
  {
   "cell_type": "code",
   "execution_count": null,
   "id": "065cdc81",
   "metadata": {},
   "outputs": [],
   "source": [
    "def sql_connection():\n",
    "    try:\n",
    "        con = sqlite3.connect('FlightDatabase.db')\n",
    "        print('Connected to: FlightDatabase.db' )\n",
    "        return con\n",
    "    except Error:\n",
    "        print(Error)\n",
    "        \n",
    "def create_table(con, create_sql):\n",
    "    cursorObj = con.cursor()\n",
    "    cursorObj.execute(create_sql)\n",
    "    con.commit()            \n",
    "    \n",
    "def list_tables(con):\n",
    "    cursorObj = con.cursor()\n",
    "    cursorObj.execute('SELECT name from sqlite_master where type= \"table\"')\n",
    "    print(cursorObj.fetchall())     \n",
    "\n",
    "def sql_insert(con, insert_sql):\n",
    "    cursorObj = con.cursor()    \n",
    "    cursorObj.execute(insert_sql)\n",
    "    con.commit()  \n",
    "    \n",
    "def table_schema(con, table):\n",
    "    cursorObj = con.cursor()    \n",
    "    print(sql_fetch(con, f\"PRAGMA table_info('{table}');\"))           \n",
    "    \n",
    "def sql_fetch(con, select_sql):\n",
    "    cursorObj = con.cursor()\n",
    "    cursorObj.execute(select_sql)\n",
    "    rows = cursorObj.fetchall()\n",
    "    for row in rows:\n",
    "        print(row) \n",
    "        \n",
    "def is_valid(row):\n",
    "    col_is_3bigletter = [1,2,3,4]\n",
    "    col_is_datetime = [5,6] \n",
    "    is_correct = True \n",
    "    #print(row)\n",
    "    if len(row)== 7:         \n",
    "        for i in col_is_3bigletter:\n",
    "            if not re.match('^[A-Z]{3}$', row[i]):\n",
    "                is_correct = False\n",
    "        for i in col_is_datetime:\n",
    "            if not re.match('^\\d{4}-\\d{2}-\\d{2} \\d{2}:\\d{2}:\\d{2}$', row[i]):\n",
    "                is_correct = False    \n",
    "    else:\n",
    "        is_correct = False \n",
    "            \n",
    "    return is_correct    "
   ]
  },
  {
   "cell_type": "markdown",
   "id": "bde38d51",
   "metadata": {},
   "source": [
    "# 1.     Korzystając z biblioteki sqlite3 utwórz nową bazę danych z tabelą FlightLeg, która będzie zawierała informację o lotach samolotów, z następującymi kolumnami: \n",
    "\n",
    "·       id — identyfikator numeryczny nadawany z sekwencji \n",
    "\n",
    "·       tailNumber — identyfikator samolotu \n",
    "\n",
    "·       sourceAirportCode, destinationAirportCode — trzyliterowy kod lotniska (wg IATA) \n",
    "\n",
    "·       sourceCountryCode, destinationCountryCode — trzyliterowy kod kraju (wg ISO 3166-1 Alpha-3) \n",
    "\n",
    "·       departureTimeUtc, landingTimeUtc — data i czas (z dokładnością do sekundy) odpowiednio odlotu i lądowania samolotu (w UTC) "
   ]
  },
  {
   "cell_type": "code",
   "execution_count": null,
   "id": "49372156",
   "metadata": {},
   "outputs": [],
   "source": [
    "create_sql =\"\"\"\n",
    "CREATE TABLE if not exists FlightLeg(\n",
    "id INTEGER PRIMARY KEY AUTOINCREMENT, \n",
    "tailNumber CHAR(10), \n",
    "sourceAirportCode CHAR(3), \n",
    "destinationAirportCode CHAR(3), \n",
    "sourceCountryCode CHAR(3), \n",
    "destinationCountryCode CHAR(3),\n",
    "departureTimeUtc DATETIME,\n",
    "landingTimeUtc DATETIME\n",
    ")\n",
    "\"\"\"\n",
    "con = sql_connection()\n",
    "create_table(con, create_sql)\n",
    "con.close()"
   ]
  },
  {
   "cell_type": "code",
   "execution_count": null,
   "id": "4558974c",
   "metadata": {},
   "outputs": [],
   "source": [
    "con = sql_connection()\n",
    "list_tables(con)\n",
    "table_schema(con, 'FlightLeg')\n",
    "con.close()"
   ]
  },
  {
   "cell_type": "markdown",
   "id": "e7e66a88",
   "metadata": {},
   "source": [
    "# 2.     Wypełnij tabelę FlightLeg danymi z pliku: https://bitpeak.pl/datasets/flightlegs.csv "
   ]
  },
  {
   "cell_type": "code",
   "execution_count": null,
   "id": "a15d0737",
   "metadata": {},
   "outputs": [],
   "source": [
    "df = pd.read_csv('flightlegs.csv', delimiter=';')\n",
    "#df = pd.read_csv('test.csv', delimiter=';')\n",
    "df = df.where(df.notnull(), 'None')\n",
    "con = sql_connection()\n",
    "for x in range(0,len(df.index)):    \n",
    "    row = df.loc[x, :].values.tolist()\n",
    "    if is_valid(row):\n",
    "        entities = f\"(NULL, {str(row)[1:-1]})\"\n",
    "        insert_sql = f\"INSERT INTO FlightLeg VALUES{entities}\"\n",
    "        #print(insert_sql)\n",
    "        sql_insert(con, insert_sql)  \n",
    "con.close()"
   ]
  },
  {
   "cell_type": "code",
   "execution_count": null,
   "id": "270be11a",
   "metadata": {},
   "outputs": [],
   "source": [
    "con = sql_connection()\n",
    "select_sql= \"\"\"\n",
    "SELECT  * \n",
    "--count(*)\n",
    "FROM FlightLeg\n",
    "WHERE 1=1\n",
    "LIMIT 10;\n",
    "\"\"\"\n",
    "sql_fetch(con, select_sql)\n",
    "con.close()"
   ]
  },
  {
   "cell_type": "markdown",
   "id": "2a6234e5",
   "metadata": {},
   "source": [
    "# 3.     Dodaj do tabeli dwie nowe kolumny: \n",
    "\n",
    "·       flightDuration — wypełnij ją wartościami określającymi czas trwania lotu w minutach (zaokrągl wartości do najbliższej liczby całkowitej) "
   ]
  },
  {
   "cell_type": "code",
   "execution_count": null,
   "id": "616d222c",
   "metadata": {},
   "outputs": [],
   "source": [
    "con = sql_connection()\n",
    "alter_sql=\"ALTER TABLE FlightLeg ADD COLUMN flightDuration INTEGER\"\n",
    "cursorObj = con.cursor()\n",
    "cursorObj.execute(alter_sql)\n",
    "con.commit()\n",
    "print(sql_fetch(con, select_sql))\n",
    "con.close()"
   ]
  },
  {
   "cell_type": "code",
   "execution_count": null,
   "id": "c49a85ed",
   "metadata": {},
   "outputs": [],
   "source": [
    "con = sql_connection()\n",
    "update_sql= \"\"\"\n",
    "UPDATE FlightLeg\n",
    "SET flightDuration = Cast (( JulianDay(landingTimeUtc) - JulianDay(departureTimeUtc)) * 24 * 60 As Integer)\n",
    "\"\"\"\n",
    "cursorObj = con.cursor()\n",
    "cursorObj.execute(update_sql)\n",
    "con.commit()\n",
    "print(sql_fetch(con, select_sql))\n",
    "con.close()"
   ]
  },
  {
   "cell_type": "markdown",
   "id": "f502317d",
   "metadata": {},
   "source": [
    "·       flightType — wypełnij ją wartościami określającymi typ lotu: krajowy (wartość ‘D’ = domestic) lub zagraniczny (wartość ‘I’ = international); lot krajowy to lot zaczynający się i kończący w tym samym kraju "
   ]
  },
  {
   "cell_type": "code",
   "execution_count": null,
   "id": "dd388c42",
   "metadata": {},
   "outputs": [],
   "source": [
    "con = sql_connection()\n",
    "alter_sql=\"ALTER TABLE FlightLeg ADD COLUMN flightType CHAR(1)\"\n",
    "cursorObj = con.cursor()\n",
    "cursorObj.execute(alter_sql)\n",
    "con.commit()\n",
    "print(sql_fetch(con, select_sql))\n",
    "con.close()"
   ]
  },
  {
   "cell_type": "code",
   "execution_count": null,
   "id": "a65fa5f2",
   "metadata": {},
   "outputs": [],
   "source": [
    "con = sql_connection()\n",
    "update_sql= \"\"\"\n",
    "UPDATE FlightLeg\n",
    "SET flightType = Case when sourceCountryCode == destinationCountryCode then 'D' else 'I' END\n",
    "\"\"\"\n",
    "cursorObj = con.cursor()\n",
    "cursorObj.execute(update_sql)\n",
    "con.commit()\n",
    "\n",
    "print(sql_fetch(con, select_sql))\n",
    "con.close()"
   ]
  },
  {
   "cell_type": "markdown",
   "id": "76a979d6",
   "metadata": {},
   "source": [
    "# 4.     Zaimplementuj logikę odpowiadającą na poniższe pytania:\n",
    "\n"
   ]
  },
  {
   "cell_type": "markdown",
   "id": "4d73150c",
   "metadata": {},
   "source": [
    "    1.     Który samolot wykonał najwięcej lotów? "
   ]
  },
  {
   "cell_type": "code",
   "execution_count": null,
   "id": "64fd0a39",
   "metadata": {},
   "outputs": [],
   "source": [
    "select_sql= \"\"\"\n",
    "SELECT tailNumber, count(tailNumber) as flight_cnt\n",
    "FROM FlightLeg\n",
    "WHERE 1=1\n",
    "group by tailNumber\n",
    "ORDER BY flight_cnt DESC LIMIT 1;\n",
    "\"\"\"\n",
    "con = sql_connection()\n",
    "print(sql_fetch(con, select_sql))\n",
    "con.close()"
   ]
  },
  {
   "cell_type": "markdown",
   "id": "dbb74844",
   "metadata": {},
   "source": [
    "    2.     Który samolot przeleciał najwięcej minut? "
   ]
  },
  {
   "cell_type": "code",
   "execution_count": null,
   "id": "d6a1ceff",
   "metadata": {},
   "outputs": [],
   "source": [
    "select_sql= \"\"\"\n",
    "SELECT tailNumber, SUM(flightDuration) AS sum_duration\n",
    "FROM FlightLeg\n",
    "WHERE 1=1\n",
    "group by tailNumber\n",
    "ORDER BY sum_duration DESC LIMIT 1;\n",
    "\"\"\"\n",
    "con = sql_connection()\n",
    "print(sql_fetch(con, select_sql))\n",
    "con.close()"
   ]
  },
  {
   "cell_type": "markdown",
   "id": "780ece85",
   "metadata": {},
   "source": [
    "    3.     Który lot, w podziale na krajowe i zagraniczne, był najkrótszy, a który najdłuższy, i ile minut trwał? "
   ]
  },
  {
   "cell_type": "code",
   "execution_count": null,
   "id": "4c62840f",
   "metadata": {},
   "outputs": [],
   "source": [
    "select_sql= \"\"\"\n",
    "SELECT \n",
    "id,\n",
    "flightType,\n",
    "flightDuration,\n",
    "MAX(flightDuration)as MAX,\n",
    "MIN(flightDuration)as MIN\n",
    "FROM FlightLeg\n",
    "where flightType ='I'\n",
    "\"\"\"\n",
    "con = sql_connection()\n",
    "print(sql_fetch(con, select_sql))\n",
    "con.close()"
   ]
  },
  {
   "cell_type": "code",
   "execution_count": null,
   "id": "ae37ec07",
   "metadata": {},
   "outputs": [],
   "source": [
    "select_sql= \"\"\"\n",
    "SELECT * FROM (\n",
    "SELECT \n",
    "id,\n",
    "flightType,\n",
    "flightDuration,\n",
    "'MAX' as type,\n",
    "ROW_NUMBER() OVER(PARTITION BY flightType,flightType ORDER BY flightDuration DESC) rowNumber\n",
    "FROM FlightLeg\n",
    ") tmax\n",
    "where tmax.rowNumber = 1\n",
    "\n",
    "UNION\n",
    "\n",
    "SELECT tmin.* FROM (\n",
    "SELECT \n",
    "id,\n",
    "flightType,\n",
    "flightDuration,\n",
    "'MIN' as type,\n",
    "ROW_NUMBER() OVER(PARTITION BY flightType,flightType ORDER BY flightDuration ASC) rowNumber\n",
    "FROM FlightLeg\n",
    ")tmin\n",
    "where tmin.rowNumber = 1\n",
    ";\n",
    "\"\"\"\n",
    "con = sql_connection()\n",
    "print(sql_fetch(con, select_sql))\n",
    "con.close()"
   ]
  },
  {
   "cell_type": "markdown",
   "id": "bfbe8c8d",
   "metadata": {},
   "source": [
    "    4.     (punkt opcjonalny) Ile jest błędnych rekordów opisujących loty, które wskazują, że samolot wykonywał więcej niż jeden lot jednocześnie? Wyświetl wszystkie pary takich konfliktowych lotów.\n"
   ]
  },
  {
   "cell_type": "code",
   "execution_count": null,
   "id": "0031e2ed",
   "metadata": {},
   "outputs": [],
   "source": [
    "select_sql= \"\"\"\n",
    "SELECT \n",
    "FL1.*,\n",
    "'||',\n",
    "FL2.*\n",
    "FROM FlightLeg AS FL1\n",
    "JOIN FlightLeg AS FL2\n",
    "on FL1.tailNumber = FL2.tailNumber\n",
    "AND FL1.id <> FL2.id\n",
    "AND(FL2.departureTimeUtc <= FL1.departureTimeUtc AND FL1.departureTimeUtc <= FL2.landingTimeUtc)\n",
    ";\n",
    "\"\"\"\n",
    "con = sql_connection()\n",
    "print(sql_fetch(con, select_sql))\n",
    "con.close()"
   ]
  },
  {
   "cell_type": "markdown",
   "id": "7fed89d6",
   "metadata": {},
   "source": [
    "    5.     (punkt opcjonalny) Odstęp pomiędzy którymi lotami tego samego dowolnego samolotu był najkrótszy i ile minut trwał? "
   ]
  },
  {
   "cell_type": "code",
   "execution_count": null,
   "id": "b7099531",
   "metadata": {},
   "outputs": [],
   "source": []
  },
  {
   "cell_type": "code",
   "execution_count": null,
   "id": "9001ddf0",
   "metadata": {},
   "outputs": [],
   "source": []
  }
 ],
 "metadata": {
  "kernelspec": {
   "display_name": "Python 3",
   "language": "python",
   "name": "python3"
  },
  "language_info": {
   "codemirror_mode": {
    "name": "ipython",
    "version": 3
   },
   "file_extension": ".py",
   "mimetype": "text/x-python",
   "name": "python",
   "nbconvert_exporter": "python",
   "pygments_lexer": "ipython3",
   "version": "3.8.8"
  }
 },
 "nbformat": 4,
 "nbformat_minor": 5
}
